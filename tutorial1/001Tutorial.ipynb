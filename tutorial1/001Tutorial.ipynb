{
 "cells": [
  {
   "cell_type": "markdown",
   "metadata": {},
   "source": [
    "# AMPAL and structural analysis\n",
    "\n",
    "Biomolecules in ISAMBARD are represented using the AMPAL (Atom, Monomer, Polymer, Assembly, Ligand) framework. This is a formal representation of biomolecules in a hierarchical structure of lightweight Python objects that enable you to navigate through the protein structure from the atomic level to the assembly level and vice versa. The image below shows the flow from the `Atom` to the `Assembly` level.\n",
    "![AMPAL_basic](imgs/AMPAL_basic.png)\n",
    "\n",
    "This tutorial demonstrates how AMPAL objects work, and introduces tools built into these objects for structural analysis and validation."
   ]
  },
  {
   "cell_type": "markdown",
   "metadata": {},
   "source": [
    "# 1. Importing a structure into the AMPAL framework\n",
    "Firstly, import isambard into the Python environment, then load in one of the structure files provided, `3UEJ.pdb`. We'll use `nglview` to view the protein along the way so you have a visual check of what you're working with."
   ]
  },
  {
   "cell_type": "code",
   "execution_count": null,
   "metadata": {},
   "outputs": [],
   "source": [
    "import isambard\n",
    "import nglview as nv\n",
    "from pprint import pprint"
   ]
  },
  {
   "cell_type": "code",
   "execution_count": null,
   "metadata": {},
   "outputs": [],
   "source": [
    "my_pdb = isambard.ampal.convert_pdb_to_ampal(\"pdbs/3UEJ.pdb\")"
   ]
  },
  {
   "cell_type": "markdown",
   "metadata": {},
   "source": [
    "Have a look at what you've got:"
   ]
  },
  {
   "cell_type": "code",
   "execution_count": null,
   "metadata": {},
   "outputs": [],
   "source": [
    "my_pdb"
   ]
  },
  {
   "cell_type": "markdown",
   "metadata": {},
   "source": [
    "The `.pdb` attribute lets you access the PDB formatted structure as a string. We can view this with NGLView by defining two simple functions:"
   ]
  },
  {
   "cell_type": "code",
   "execution_count": null,
   "metadata": {},
   "outputs": [],
   "source": [
    "def show_ball_and_stick(ampal):\n",
    "    view = nv.show_text(ampal.pdb)\n",
    "    view.add_ball_and_stick()\n",
    "    view.remove_cartoon()\n",
    "    return view"
   ]
  },
  {
   "cell_type": "code",
   "execution_count": null,
   "metadata": {},
   "outputs": [],
   "source": [
    "def show_cartoon(ampal):\n",
    "    view = nv.show_text(ampal.pdb)\n",
    "    return view"
   ]
  },
  {
   "cell_type": "code",
   "execution_count": null,
   "metadata": {},
   "outputs": [],
   "source": [
    "show_ball_and_stick(my_pdb)"
   ]
  },
  {
   "cell_type": "markdown",
   "metadata": {},
   "source": [
    "This structure contains two `Polypeptide` chains, and 230 `Ligand` objects (water, zinc and phosphate). We'll worry about the Ligand objects later, let's focus on the `Polypeptide` for now). Individual `Polypeptide`s are accessed by means of a list index:"
   ]
  },
  {
   "cell_type": "code",
   "execution_count": null,
   "metadata": {},
   "outputs": [],
   "source": [
    "my_pdb[0] # the first polypeptide in the assembly"
   ]
  },
  {
   "cell_type": "markdown",
   "metadata": {},
   "source": [
    ".... or by using a chain identifier as a string:"
   ]
  },
  {
   "cell_type": "code",
   "execution_count": null,
   "metadata": {},
   "outputs": [],
   "source": [
    "my_polypeptide = my_pdb['A']"
   ]
  },
  {
   "cell_type": "markdown",
   "metadata": {},
   "source": [
    "The chain identifier can be accessed via the `.id` attribute"
   ]
  },
  {
   "cell_type": "code",
   "execution_count": null,
   "metadata": {},
   "outputs": [],
   "source": [
    "my_polypeptide.id"
   ]
  },
  {
   "cell_type": "code",
   "execution_count": null,
   "metadata": {},
   "outputs": [],
   "source": [
    "show_ball_and_stick(my_polypeptide)"
   ]
  },
  {
   "cell_type": "markdown",
   "metadata": {},
   "source": [
    "## Navigating the AMPAL hierarchy\n",
    "You can get back to the `Assembly` object via the `.ampal_parent` attribute"
   ]
  },
  {
   "cell_type": "code",
   "execution_count": null,
   "metadata": {},
   "outputs": [],
   "source": [
    "my_polypeptide.ampal_parent"
   ]
  },
  {
   "cell_type": "markdown",
   "metadata": {},
   "source": [
    "You can get a list of individual residues via the `.get_monomers()` method. This returns a Python iterator object, but if you're not comfortable using these you can move straight to a list."
   ]
  },
  {
   "cell_type": "code",
   "execution_count": null,
   "metadata": {},
   "outputs": [],
   "source": [
    "my_residues = list(my_polypeptide.get_monomers())"
   ]
  },
  {
   "cell_type": "markdown",
   "metadata": {},
   "source": [
    "Individual residues can be accessed from this list via index"
   ]
  },
  {
   "cell_type": "code",
   "execution_count": null,
   "metadata": {},
   "outputs": [],
   "source": [
    "my_residues[0]"
   ]
  },
  {
   "cell_type": "markdown",
   "metadata": {},
   "source": [
    "Alternatively, you can get a residue via its index or via PDB number directly from the polypeptide object:"
   ]
  },
  {
   "cell_type": "code",
   "execution_count": null,
   "metadata": {},
   "outputs": [],
   "source": [
    "my_polypeptide[0] # The first residue in the polypeptide"
   ]
  },
  {
   "cell_type": "code",
   "execution_count": null,
   "metadata": {},
   "outputs": [],
   "source": [
    "my_polypeptide['222'] # The residue numbered 222 in the PDB file (also, the first residue!)"
   ]
  },
  {
   "cell_type": "code",
   "execution_count": null,
   "metadata": {},
   "outputs": [],
   "source": [
    "my_residue = my_polypeptide['222']"
   ]
  },
  {
   "cell_type": "markdown",
   "metadata": {},
   "source": [
    "You can find more information about the residue using the `.mol_code`, `mol_letter` and `.id` attributes"
   ]
  },
  {
   "cell_type": "code",
   "execution_count": null,
   "metadata": {},
   "outputs": [],
   "source": [
    "my_residue.mol_code"
   ]
  },
  {
   "cell_type": "code",
   "execution_count": null,
   "metadata": {},
   "outputs": [],
   "source": [
    "my_residue.mol_letter"
   ]
  },
  {
   "cell_type": "code",
   "execution_count": null,
   "metadata": {},
   "outputs": [],
   "source": [
    "my_residue.id"
   ]
  },
  {
   "cell_type": "markdown",
   "metadata": {},
   "source": [
    "You can get an ordered dictionary of atoms via the `.get_atoms()` method:"
   ]
  },
  {
   "cell_type": "code",
   "execution_count": null,
   "metadata": {},
   "outputs": [],
   "source": [
    "my_residue.get_atoms()"
   ]
  },
  {
   "cell_type": "markdown",
   "metadata": {},
   "source": [
    "or you can access an atom directly by a dictionary look-up:"
   ]
  },
  {
   "cell_type": "code",
   "execution_count": null,
   "metadata": {},
   "outputs": [],
   "source": [
    "my_residue['CA']"
   ]
  },
  {
   "cell_type": "markdown",
   "metadata": {},
   "source": [
    "and its coordinates via the `.x`, `.y` and `.z` attributes"
   ]
  },
  {
   "cell_type": "code",
   "execution_count": null,
   "metadata": {},
   "outputs": [],
   "source": [
    "print (my_residue['CA'].x, my_residue['CA'].y, my_residue['CA'].z)"
   ]
  },
  {
   "cell_type": "markdown",
   "metadata": {},
   "source": [
    "You can get back to the `Residue`, `Polypeptide` and `Assembly` objects using `.ampal_parent`:"
   ]
  },
  {
   "cell_type": "code",
   "execution_count": null,
   "metadata": {},
   "outputs": [],
   "source": [
    "my_atom = my_residue['CA']"
   ]
  },
  {
   "cell_type": "code",
   "execution_count": null,
   "metadata": {},
   "outputs": [],
   "source": [
    "my_atom.ampal_parent"
   ]
  },
  {
   "cell_type": "code",
   "execution_count": null,
   "metadata": {},
   "outputs": [],
   "source": [
    "my_atom.ampal_parent.ampal_parent"
   ]
  },
  {
   "cell_type": "code",
   "execution_count": null,
   "metadata": {},
   "outputs": [],
   "source": [
    "my_atom.ampal_parent.ampal_parent.ampal_parent"
   ]
  },
  {
   "cell_type": "markdown",
   "metadata": {},
   "source": [
    "And you can go from the `Assembly` level right down to the `Atom` level in one step:"
   ]
  },
  {
   "cell_type": "code",
   "execution_count": null,
   "metadata": {},
   "outputs": [],
   "source": [
    "my_pdb['A']['222']['CA']"
   ]
  },
  {
   "cell_type": "markdown",
   "metadata": {},
   "source": [
    "## Selections and tagging"
   ]
  },
  {
   "cell_type": "markdown",
   "metadata": {},
   "source": [
    "The polypeptide sequence can be accessed via the `.sequence` attribute"
   ]
  },
  {
   "cell_type": "code",
   "execution_count": null,
   "metadata": {},
   "outputs": [],
   "source": [
    "my_polypeptide.sequence"
   ]
  },
  {
   "cell_type": "markdown",
   "metadata": {},
   "source": [
    "You can select a region of structure by two methods:\n",
    "* via the residue index (from the 0th to the nth residue in the polypeptide)\n",
    "* via the PDB residue numbering - in this structure the residues start at 222"
   ]
  },
  {
   "cell_type": "markdown",
   "metadata": {},
   "source": [
    "via residue index:"
   ]
  },
  {
   "cell_type": "code",
   "execution_count": null,
   "metadata": {},
   "outputs": [],
   "source": [
    "my_selection = my_polypeptide[0:15]"
   ]
  },
  {
   "cell_type": "code",
   "execution_count": null,
   "metadata": {},
   "outputs": [],
   "source": [
    "my_selection"
   ]
  },
  {
   "cell_type": "markdown",
   "metadata": {},
   "source": [
    "via PDB residue numbering using `.get_slice_from_res_id('start id','end id')`:"
   ]
  },
  {
   "cell_type": "code",
   "execution_count": null,
   "metadata": {},
   "outputs": [],
   "source": [
    "my_other_selection = my_polypeptide.get_slice_from_res_id('240','260')"
   ]
  },
  {
   "cell_type": "code",
   "execution_count": null,
   "metadata": {},
   "outputs": [],
   "source": [
    "my_other_selection"
   ]
  },
  {
   "cell_type": "markdown",
   "metadata": {},
   "source": [
    "Let's view these in nglview:"
   ]
  },
  {
   "cell_type": "code",
   "execution_count": null,
   "metadata": {},
   "outputs": [],
   "source": [
    "show_ball_and_stick(my_other_selection)"
   ]
  },
  {
   "cell_type": "markdown",
   "metadata": {},
   "source": [
    "### Select on the basis of secondary structure\n",
    "This runs DSSP automatically and assigns secondary structure. You can then use the `.helices` and `.strands` attributes to access these elements of secondary structure, which are returned as `Assembly` objects."
   ]
  },
  {
   "cell_type": "code",
   "execution_count": null,
   "metadata": {},
   "outputs": [],
   "source": [
    "my_helices = my_polypeptide.helices"
   ]
  },
  {
   "cell_type": "code",
   "execution_count": null,
   "metadata": {},
   "outputs": [],
   "source": [
    "my_strands = my_polypeptide.strands"
   ]
  },
  {
   "cell_type": "code",
   "execution_count": null,
   "metadata": {},
   "outputs": [],
   "source": [
    "my_strands"
   ]
  },
  {
   "cell_type": "code",
   "execution_count": null,
   "metadata": {},
   "outputs": [],
   "source": [
    "my_strands[0].sequence"
   ]
  },
  {
   "cell_type": "code",
   "execution_count": null,
   "metadata": {},
   "outputs": [],
   "source": [
    "show_cartoon(my_strands)"
   ]
  },
  {
   "cell_type": "markdown",
   "metadata": {},
   "source": [
    "### Tagging\n",
    "Once the secondary structure is assigned, each residue is 'tagged' with its secondary structure. Each level in the AMPAL hierarchy has a dictionary attached to it called 'tags', accessed via the `.tags` attribute. When `.helices` or `.strands` is called, each `Residue` in the AMPAL object is tagged with its secondary structure. The following code prints the tags of the first strand residue:"
   ]
  },
  {
   "cell_type": "code",
   "execution_count": null,
   "metadata": {},
   "outputs": [],
   "source": [
    "my_strands[0][0].tags"
   ]
  },
  {
   "cell_type": "markdown",
   "metadata": {},
   "source": [
    "Or, the secondary structure tags of all the residues in the selection we made earlier:"
   ]
  },
  {
   "cell_type": "code",
   "execution_count": null,
   "metadata": {},
   "outputs": [],
   "source": [
    "pprint ([x.tags['secondary_structure'] for x in my_selection.get_monomers()])"
   ]
  },
  {
   "cell_type": "markdown",
   "metadata": {},
   "source": [
    "There are several direct methods for tagging:\n",
    "\n",
    "* `.tag_ca_geometry()` \n",
    "* `.tag_secondary_structure()`\n",
    "* `.tag_sidechain_dihedrals()`\n",
    "* `.tag_torsion_angles()`\n",
    "* `.tag_residue_solvent_accessibility()` (requires NACCESS http://wolf.bms.umist.ac.uk/naccess/)\n",
    "\n",
    "> ### Note\n",
    "> Don't forget that you can see information on specific functions/classes in a number of ways:\n",
    "> 1. Check the [API documentation](https://woolfson-group.github.io/isambard/api_reference.html)\n",
    "> 1. Take a look at the [source code](https://github.com/woolfson-group/isambard/tree/master/isambard)\n",
    "> 1. Shift+Tab inside the round brackets if you're using Jupyter Notebook\n",
    "> 1. Use the Python `help` function e.g. `help(isambard.ampal.convert_pdb_to_ampal)`"
   ]
  },
  {
   "cell_type": "markdown",
   "metadata": {},
   "source": [
    "### A rudimentary Ramachandran plot:"
   ]
  },
  {
   "cell_type": "code",
   "execution_count": null,
   "metadata": {},
   "outputs": [],
   "source": [
    "my_polypeptide.tag_torsion_angles()"
   ]
  },
  {
   "cell_type": "code",
   "execution_count": null,
   "metadata": {},
   "outputs": [],
   "source": [
    "phi = [x.tags['phi'] for x in my_polypeptide]\n",
    "psi = [x.tags['psi'] for x in my_polypeptide]    "
   ]
  },
  {
   "cell_type": "code",
   "execution_count": null,
   "metadata": {},
   "outputs": [],
   "source": [
    "import matplotlib.pyplot as plt\n",
    "%matplotlib inline"
   ]
  },
  {
   "cell_type": "code",
   "execution_count": null,
   "metadata": {},
   "outputs": [],
   "source": [
    "plt.axhline(0, color='black', linewidth=1)\n",
    "plt.axvline(0, color='black', linewidth=1)\n",
    "plt.scatter(phi,psi)\n",
    "plt.xlabel(\"Phi\")\n",
    "plt.ylabel(\"Psi\")\n",
    "plt.xlim(-180, 180)\n",
    "plt.ylim(-180, 180)\n",
    "None"
   ]
  },
  {
   "cell_type": "markdown",
   "metadata": {},
   "source": [
    "You can use your own tags:"
   ]
  },
  {
   "cell_type": "code",
   "execution_count": null,
   "metadata": {},
   "outputs": [],
   "source": [
    "for x in my_selection:\n",
    "    x.tags['my_tag'] = 'My Value'"
   ]
  },
  {
   "cell_type": "code",
   "execution_count": null,
   "metadata": {},
   "outputs": [],
   "source": [
    "print ([x.tags['my_tag'] for x in my_selection])"
   ]
  },
  {
   "cell_type": "markdown",
   "metadata": {},
   "source": [
    "## Dealing with ligands\n",
    "Ligands can be accessed via the `.ligands` attribute at the `Polypeptide` level, or the `.get_ligands()` method at the `Assembly` level. We'll just work with the `Polypeptide`."
   ]
  },
  {
   "cell_type": "code",
   "execution_count": null,
   "metadata": {},
   "outputs": [],
   "source": [
    "my_ligands = my_polypeptide.ligands"
   ]
  },
  {
   "cell_type": "code",
   "execution_count": null,
   "metadata": {},
   "outputs": [],
   "source": [
    "pprint ([x.mol_code for x in my_ligands])"
   ]
  },
  {
   "cell_type": "markdown",
   "metadata": {},
   "source": [
    "As you can see, most of these are for water, but there are two zinc atoms which are of interest."
   ]
  },
  {
   "cell_type": "code",
   "execution_count": null,
   "metadata": {},
   "outputs": [],
   "source": [
    "my_zinc1 = my_ligands[0]"
   ]
  },
  {
   "cell_type": "code",
   "execution_count": null,
   "metadata": {},
   "outputs": [],
   "source": [
    "my_zinc1"
   ]
  },
  {
   "cell_type": "markdown",
   "metadata": {},
   "source": [
    "We can look at the environment surrounding the zinc ions at a defined distance cutoff:"
   ]
  },
  {
   "cell_type": "code",
   "execution_count": null,
   "metadata": {},
   "outputs": [],
   "source": [
    "my_zinc1.close_monomers(my_pdb, cutoff=4.0)"
   ]
  },
  {
   "cell_type": "markdown",
   "metadata": {},
   "source": [
    "### To view these in NGLView, we need to make a dummy `Assembly` object for isambard:"
   ]
  },
  {
   "cell_type": "code",
   "execution_count": null,
   "metadata": {},
   "outputs": [],
   "source": [
    "my_zinc_env = my_zinc1.close_monomers(my_pdb, cutoff=4.0)"
   ]
  },
  {
   "cell_type": "code",
   "execution_count": null,
   "metadata": {},
   "outputs": [],
   "source": [
    "my_zinc_assembly = isambard.ampal.Assembly()\n",
    "for x in my_zinc_env:\n",
    "    my_zinc_assembly.append(isambard.ampal.Polymer(x))"
   ]
  },
  {
   "cell_type": "code",
   "execution_count": null,
   "metadata": {},
   "outputs": [],
   "source": [
    "show_ball_and_stick(my_zinc_assembly)"
   ]
  },
  {
   "cell_type": "markdown",
   "metadata": {},
   "source": [
    "## Scaling it up\n",
    "All this is very well, but nothing you can't do in PyMOL or similar with ease and a few clicks. We are now going to work with a much larger set of structures taken from the PDB to do some analysis - something which is harder to do over a large set of structures in a GUI-style environment."
   ]
  },
  {
   "cell_type": "markdown",
   "metadata": {},
   "source": [
    "### RCSB (`http://rcsb.org`) query:\n",
    "\n",
    "We queried the RCSB to get a set of x-ray crystal structures of proteins with zinc ligands. This returned 84 structures which are included as part of the tutorial, along with one NMR structure we added to demonstrate the `AmpalContainer` class. The RCSB PDB query is below if you would like to repeat it.\n",
    "\n",
    "_`Ligand Search` : Has free ligands=yes and Chemical Name: Name Contains zinc and Polymeric type is Any and Sequence Length is between 40 and 100 and Holdings : Molecule Type=protein Experimental Method=X-RAY and Resolution is 1.499 or less_ \n",
    "\n",
    "* returned 84 structures + one added NMR structure\n",
    "* all files in a list called `pdb_list` in your working directory"
   ]
  },
  {
   "cell_type": "markdown",
   "metadata": {},
   "source": [
    "### Read in the list and get all structures into the Ampal framework"
   ]
  },
  {
   "cell_type": "code",
   "execution_count": null,
   "metadata": {},
   "outputs": [],
   "source": [
    "with open('pdb_list','r') as in_list:\n",
    "    structures = [x.rstrip() for x in in_list.readlines()]\n",
    "    "
   ]
  },
  {
   "cell_type": "code",
   "execution_count": null,
   "metadata": {},
   "outputs": [],
   "source": [
    "my_structures = []\n",
    "for s in structures:\n",
    "    try:\n",
    "        m = isambard.ampal.convert_pdb_to_ampal(s)\n",
    "        my_structures.append(m)\n",
    "    except:\n",
    "        FileNotFoundError()"
   ]
  },
  {
   "cell_type": "markdown",
   "metadata": {},
   "source": [
    "## AmpalContainer\n",
    "AmpalContainer is one level above an Assembly, and allows for multiple-model structures such as NMR ensembles. Use the code below to find which of the structures is the multi-model NMR structure. We'll just take the first model for this structure.\n",
    "![AMPAL_Container](imgs/AMPAL_inheritance_incl_ampal_container.png)"
   ]
  },
  {
   "cell_type": "code",
   "execution_count": null,
   "metadata": {},
   "outputs": [],
   "source": [
    "my_ampal_structures = []\n",
    "for m in my_structures:\n",
    "    if isinstance(m,isambard.ampal.AmpalContainer):\n",
    "        print(\"{} is the NMR structure\".format(m.id))\n",
    "        print(\"Taking 1st model only\")\n",
    "        first_structure = m[0]\n",
    "        my_ampal_structures.append(first_structure)\n",
    "    else:\n",
    "        my_ampal_structures.append(m)"
   ]
  },
  {
   "cell_type": "markdown",
   "metadata": {},
   "source": [
    "Now let's write some code to identify where the zinc ions are in each structure, and pull out their environment."
   ]
  },
  {
   "cell_type": "code",
   "execution_count": null,
   "metadata": {},
   "outputs": [],
   "source": [
    "my_zn_envs = []\n",
    "for structure in my_ampal_structures:\n",
    "    print (\"Examining {}\".format(structure.id))\n",
    "    ligs = structure.get_ligands()\n",
    "    \n",
    "    for n in ligs:\n",
    "        if n.mol_code == \"ZN\":\n",
    "            print (\"{} ZN here\".format(structure.id))\n",
    "            zn_env = n.close_monomers(structure, cutoff=4.0)\n",
    "            my_zn_envs.append(zn_env)"
   ]
  },
  {
   "cell_type": "markdown",
   "metadata": {},
   "source": [
    "## Analysis\n",
    "Can you use the isambard code you've learnt so far together with a bit of python to analyse these zinc binding sites?\n",
    "\n",
    "Hints: you could use a dictionary to keep track of amino acid counts, or you could keep a tally of distances in a list.\n",
    "\n",
    "Which amino acid residues are typically closest to the zinc ions?\n",
    "\n",
    "Sample code to use below if you don't have any ideas."
   ]
  },
  {
   "cell_type": "markdown",
   "metadata": {},
   "source": [
    "### Sequence analysis"
   ]
  },
  {
   "cell_type": "code",
   "execution_count": null,
   "metadata": {},
   "outputs": [],
   "source": [
    "my_amino_acid_count = {}\n",
    "my_amino_acids = 'ACDEFGHIKLMNPQRSTVWY'\n",
    "\n",
    "for x in list(my_amino_acids):\n",
    "    my_amino_acid_count[x] = 0\n",
    "\n",
    "for env in my_zn_envs:\n",
    "    for residue in env:\n",
    "        if type(residue) is isambard.ampal.Residue:\n",
    "            my_amino_acid_count[residue.mol_letter] += 1"
   ]
  },
  {
   "cell_type": "code",
   "execution_count": null,
   "metadata": {},
   "outputs": [],
   "source": [
    "my_amino_acid_count"
   ]
  },
  {
   "cell_type": "markdown",
   "metadata": {},
   "source": [
    "### Can you work out the mean distance from each zinc atom to its binding residues? \n",
    "Hint: there is a function `isambard.tools.geometry.distance()` which takes two atom objects as arguments and returns the distance between them."
   ]
  },
  {
   "cell_type": "code",
   "execution_count": null,
   "metadata": {},
   "outputs": [],
   "source": [
    "my_distances = {}\n",
    "for x in list(my_amino_acids):\n",
    "    my_distances[x] = []\n",
    "    \n",
    "for env in my_zn_envs:\n",
    "    my_zinc = None\n",
    "    for residue in env:\n",
    "        if residue.mol_code == \"ZN\":\n",
    "            my_zinc = residue\n",
    "    \n",
    "    for residue in env:\n",
    "        if type(residue) is isambard.ampal.Residue:\n",
    "            my_distance = isambard.tools.geometry.distance(my_zinc['ZN'],residue['CA'])\n",
    "            my_distances[residue.mol_letter].append(my_distance)"
   ]
  },
  {
   "cell_type": "markdown",
   "metadata": {},
   "source": [
    "### Find the average distance for the cysteine residues"
   ]
  },
  {
   "cell_type": "code",
   "execution_count": null,
   "metadata": {},
   "outputs": [],
   "source": [
    "import numpy as np\n",
    "cys_array = np.array(my_distances['C'])\n",
    "np.mean(cys_array)"
   ]
  },
  {
   "cell_type": "code",
   "execution_count": null,
   "metadata": {},
   "outputs": [],
   "source": [
    "np.std(cys_array)"
   ]
  },
  {
   "cell_type": "markdown",
   "metadata": {},
   "source": [
    "## Phenylalanine?\n",
    "One of the zinc binding sites has a phenylalanine residue close by. Find it, and see if you can work out what role the phenylalanine might be playing, if any."
   ]
  },
  {
   "cell_type": "code",
   "execution_count": null,
   "metadata": {},
   "outputs": [],
   "source": [
    "for env in my_zn_envs:\n",
    "    for residue in env:\n",
    "        if residue.mol_code == \"PHE\":\n",
    "            my_phe_assembly = isambard.ampal.Polypeptide(env)\n",
    "            print (\"PDB code is {}\".format(residue.ampal_parent.ampal_parent.id))\n",
    "            print (\"Chain ID is {}\".format(residue.ampal_parent.id))\n",
    "            print (\"Residue number is {}\".format(residue.id))\n",
    "            \n",
    "            for residue in env:\n",
    "                if residue.mol_code == \"ZN\":\n",
    "                    print (\"Zinc is {} {}\".format(residue.id, residue.ampal_parent.id))"
   ]
  },
  {
   "cell_type": "code",
   "execution_count": null,
   "metadata": {},
   "outputs": [],
   "source": [
    "view = nv.show_file(\"pdbs/4L7X.pdb\")\n",
    "view.add_representation('spacefill',selection=\"101:A\",color='green')\n",
    "view.add_ball_and_stick(\"{}:{}\".format(\" or \".join([str(x.id) for x in my_phe_assembly]),'A'))\n",
    "view"
   ]
  },
  {
   "cell_type": "markdown",
   "metadata": {},
   "source": [
    "## Summary\n",
    "You should now be able to:\n",
    "\n",
    "+ import PDB structures into the AMPAL framework\n",
    "+ query structures by secondary structure and residue identity\n",
    "+ tag AMPAL objects \n",
    "+ look at the environment around certain atoms\n",
    "+ calculate distances between atoms"
   ]
  }
 ],
 "metadata": {
  "kernelspec": {
   "display_name": "Python 3",
   "language": "python",
   "name": "python3"
  },
  "language_info": {
   "codemirror_mode": {
    "name": "ipython",
    "version": 3
   },
   "file_extension": ".py",
   "mimetype": "text/x-python",
   "name": "python",
   "nbconvert_exporter": "python",
   "pygments_lexer": "ipython3",
   "version": "3.6.4"
  }
 },
 "nbformat": 4,
 "nbformat_minor": 2
}
