{
 "cells": [
  {
   "cell_type": "markdown",
   "metadata": {},
   "source": [
    "# Parametric Modelling in ISAMBARD"
   ]
  },
  {
   "cell_type": "code",
   "execution_count": null,
   "metadata": {},
   "outputs": [],
   "source": [
    "import itertools\n",
    "from pprint import pprint\n",
    "\n",
    "import matplotlib.pyplot as plt\n",
    "import nglview as nv\n",
    "import numpy\n",
    "\n",
    "%matplotlib inline"
   ]
  },
  {
   "cell_type": "code",
   "execution_count": null,
   "metadata": {},
   "outputs": [],
   "source": [
    "import isambard"
   ]
  },
  {
   "cell_type": "code",
   "execution_count": null,
   "metadata": {},
   "outputs": [],
   "source": [
    "def show_ball_and_stick(ampal):\n",
    "    view = nv.show_text(ampal.pdb)\n",
    "    view.add_ball_and_stick()\n",
    "    view.remove_cartoon()\n",
    "    return view"
   ]
  },
  {
   "cell_type": "markdown",
   "metadata": {},
   "source": [
    "## What is parametric modelling?"
   ]
  },
  {
   "cell_type": "markdown",
   "metadata": {},
   "source": [
    "Parametric modelling is a method of creating models of biomolecular structure using a simple geometric description of the shape of the molecule. The molecular structure of the protein backbone enables it to adopt a huge number of conformations, but if we are modelling an amino acid sequence that is likely to be a parametrisable protein fold, we can reduce the complexity of modelling the sequence by using this simplified geometric description."
   ]
  },
  {
   "cell_type": "markdown",
   "metadata": {},
   "source": [
    "The most famous example of a parametrisable protein fold is the α-helical coiled coil, which accounts for ~5% of all protein-encoding DNA. This fold consists of two or more α-helices that wrap around each other to form a rope-like super-helical structure. Their structures range from very simple to highly complex, but at the core, all these structures can be described using a simple mathematical model. In the simplest case, only 3 geometric parameters are required to describe the position of all backbone atoms with near atomic precision! These parameters are pitch, radius and interface angle (also known as ϕCα) (Figure 1)."
   ]
  },
  {
   "cell_type": "markdown",
   "metadata": {},
   "source": [
    "<figure>\n",
    "    <img src=\"imgs/figure1.png\" alt=\"Structure of α-helical coiled coil.\">\n",
    "    <figcaption>\n",
    "        **Figure 1. Structure of α-helical coiled coils.** (A) Helical-wheel diagrams showing\n",
    "        the projection of residues in the heptad repeat. (B) Helices in a coiled coil pack \n",
    "        closely together, forming knobs-into-holes interactions. (C) Coiled coils can be \n",
    "        described using three geometric parameters: interface angle (°), radius (Å), and \n",
    "        pitch (Å).\n",
    "    </figcaption>\n",
    "</figure>"
   ]
  },
  {
   "cell_type": "markdown",
   "metadata": {},
   "source": [
    "You can get a better feeling for what these parameters represent by playing with [CCBuilder 2.0](http://coiledcoils.chm.bris.ac.uk/ccbuilder2/builder). CCBuilder is a interactive web application for modelling coiled coils, built on top of ISAMBARD. Under the hood it uses a lot of the functionality that we'll be learning about in this tutorial."
   ]
  },
  {
   "cell_type": "markdown",
   "metadata": {},
   "source": [
    "## Specifications"
   ]
  },
  {
   "cell_type": "markdown",
   "metadata": {},
   "source": [
    "Parametric models in ISAMBARD are known as \"specifications\", a term borrowed from the field of architecture, where a specification is defined as \"a detailed description of the design and materials used to make something\". There are two types of specifications, one at the `Polymer` level and one at the `Assembly` level. `Polymer` specifications describe regions of regular backbone structure, like an α-helix. `Assembly` specifications describe how regions of secondary structure assemble together."
   ]
  },
  {
   "cell_type": "markdown",
   "metadata": {},
   "source": [
    "### The Coiled-Coil Specification"
   ]
  },
  {
   "cell_type": "markdown",
   "metadata": {},
   "source": [
    "Let's start by building modelling some coiled coils. The very simplest way of creating a model is to build it using typical parameters for a particular oligomeric state of coiled coil."
   ]
  },
  {
   "cell_type": "code",
   "execution_count": null,
   "metadata": {},
   "outputs": [],
   "source": [
    "dimer = isambard.specifications.CoiledCoil(2)"
   ]
  },
  {
   "cell_type": "code",
   "execution_count": null,
   "metadata": {},
   "outputs": [],
   "source": [
    "show_ball_and_stick(dimer)"
   ]
  },
  {
   "cell_type": "code",
   "execution_count": null,
   "metadata": {},
   "outputs": [],
   "source": [
    "dimer"
   ]
  },
  {
   "cell_type": "markdown",
   "metadata": {},
   "source": [
    "Parametric models in ISAMBARD are AMPAL objects, just the same as any other structure that you might load in, so you can use the same tools that you encountered in the first tutorial to analyse their structure. They do contain some extra functionality though, such as the attributes and methods required to create the backbone model. Let's take a look at the values of the coiled coil parameters described above."
   ]
  },
  {
   "cell_type": "code",
   "execution_count": null,
   "metadata": {},
   "outputs": [],
   "source": [
    "print(\"Radii: {}\\nPitch values: {}\\nInterface Angles: {}\".format(\n",
    "    dimer.major_radii, dimer.major_pitches, dimer.phi_c_alphas))"
   ]
  },
  {
   "cell_type": "markdown",
   "metadata": {},
   "source": [
    "Here you can see that there are *n* values for each parameters, where *n* is equal to the oligomeric state. This is because the coiled coil parameters are defined relative to the super-helical axis."
   ]
  },
  {
   "cell_type": "markdown",
   "metadata": {},
   "source": [
    "Let's add some sidechains to this structure.\n",
    "\n",
    "> **Note**<br/>Currently we use [SCWRL4](http://dunbrack.fccc.edu/scwrl4/) to add sidechains to structures, so you need to download a copy if you want to do this on your own computer. It requires a license but is free for academics."
   ]
  },
  {
   "cell_type": "code",
   "execution_count": null,
   "metadata": {},
   "outputs": [],
   "source": [
    "basis_set_dimer_sequences = [\n",
    "    'EIAALKQEIAALKKENAALKWEIAALKQ',\n",
    "    'EIAALKQEIAALKKENAALKWEIAALKQ'\n",
    "#    gabcdefgabcdefgabcdefgabcdef  <- This is the heptad repeat of this sequence, we'll come back to this\n",
    "]"
   ]
  },
  {
   "cell_type": "code",
   "execution_count": null,
   "metadata": {},
   "outputs": [],
   "source": [
    "dimer.pack_new_sequences(basis_set_dimer_sequences)"
   ]
  },
  {
   "cell_type": "code",
   "execution_count": null,
   "metadata": {},
   "outputs": [],
   "source": [
    "show_ball_and_stick(dimer)"
   ]
  },
  {
   "cell_type": "markdown",
   "metadata": {},
   "source": [
    "You can also create any <i>n</i>mer in the same way."
   ]
  },
  {
   "cell_type": "code",
   "execution_count": null,
   "metadata": {},
   "outputs": [],
   "source": [
    "trimer = isambard.specifications.CoiledCoil(3)\n",
    "tetramer = isambard.specifications.CoiledCoil(4)\n",
    "pentamer = isambard.specifications.CoiledCoil(5)\n",
    "hexamer = isambard.specifications.CoiledCoil(6)"
   ]
  },
  {
   "cell_type": "code",
   "execution_count": null,
   "metadata": {},
   "outputs": [],
   "source": [
    "pprint([dimer, trimer, tetramer, pentamer, hexamer])"
   ]
  },
  {
   "cell_type": "markdown",
   "metadata": {},
   "source": [
    "Chances are though that you'll want to actually change the parameters used to create the model, it is parametric modelling after all!"
   ]
  },
  {
   "cell_type": "markdown",
   "metadata": {},
   "source": [
    "### Building with Parameters"
   ]
  },
  {
   "cell_type": "markdown",
   "metadata": {},
   "source": [
    "While we can directly modify the parameters on the models we created earlier, it's not a particularly convenient method of generating models, so we can use the `from_parameters` class method instead. Let's have a look at the documentation for this."
   ]
  },
  {
   "cell_type": "code",
   "execution_count": null,
   "metadata": {},
   "outputs": [],
   "source": [
    "help(isambard.specifications.CoiledCoil.from_parameters)"
   ]
  },
  {
   "cell_type": "markdown",
   "metadata": {},
   "source": [
    "> ### Note\n",
    "> Don't forget that you can see information on specific functions/classes in a number of ways:\n",
    "> 1. Check the [API documentation](https://woolfson-group.github.io/isambard/api_reference.html)\n",
    "> 1. Take a look at the [source code](https://github.com/woolfson-group/isambard/tree/master/isambard)\n",
    "> 1. Shift+Tab inside the round brackets if you're using Jupyter Notebook\n",
    "> 1. Use the Python `help` function i.e. `help(isambard.specifications.CoiledCoil.from_parameters)`"
   ]
  },
  {
   "cell_type": "markdown",
   "metadata": {},
   "source": [
    "Here you can see all the parameters available; oligomeric state is the only required parameter, the others you could leave blank and it will function in pretty much the same as instantiating `CoiledCoil` directly. Let's make a dimer again but explicitly state the parameters."
   ]
  },
  {
   "cell_type": "code",
   "execution_count": null,
   "metadata": {},
   "outputs": [],
   "source": [
    "dimer_exp_params = isambard.specifications.CoiledCoil.from_parameters(\n",
    "    2, 28, 5, 225, 283) # i.e. 2 chains, 28 residues, radius 5Å, pitch 225Å, phi-c-alpha 283°"
   ]
  },
  {
   "cell_type": "code",
   "execution_count": null,
   "metadata": {},
   "outputs": [],
   "source": [
    "dimer_exp_params.pack_new_sequences(basis_set_dimer_sequences)"
   ]
  },
  {
   "cell_type": "code",
   "execution_count": null,
   "metadata": {
    "scrolled": true
   },
   "outputs": [],
   "source": [
    "show_ball_and_stick(dimer_exp_params)"
   ]
  },
  {
   "cell_type": "markdown",
   "metadata": {},
   "source": [
    "When modelling coiled coils, it can be useful to talk about the interface angle relative to the *a* position residue, and so you adjust its value based on the register of your sequence *i.e.* which heptad position is your first residue (Figure 1). Here's a little dictionary to convert your register to an interface angle at *a*."
   ]
  },
  {
   "cell_type": "code",
   "execution_count": null,
   "metadata": {},
   "outputs": [],
   "source": [
    "REGISTER_ADJUST = {\n",
    "    'a': 0,\n",
    "    'b': 102.8,\n",
    "    'c': 205.6,\n",
    "    'd': 308.4,\n",
    "    'e': 51.4,\n",
    "    'f': 154.2,\n",
    "    'g': 257\n",
    "}"
   ]
  },
  {
   "cell_type": "markdown",
   "metadata": {},
   "source": [
    "Let's use this to make it easier to think about our sequence. The basis set dimer sequence starts at a *g* position, and usually the *a* position residues sit at around 26° (see Figure 1C)."
   ]
  },
  {
   "cell_type": "code",
   "execution_count": null,
   "metadata": {},
   "outputs": [],
   "source": [
    "dimer_with_reg = isambard.specifications.CoiledCoil.from_parameters(2, 28, 4.8, 160, REGISTER_ADJUST['g']+26)"
   ]
  },
  {
   "cell_type": "code",
   "execution_count": null,
   "metadata": {},
   "outputs": [],
   "source": [
    "dimer_with_reg.pack_new_sequences(basis_set_dimer_sequences)"
   ]
  },
  {
   "cell_type": "code",
   "execution_count": null,
   "metadata": {
    "scrolled": true
   },
   "outputs": [],
   "source": [
    "show_ball_and_stick(dimer_with_reg)"
   ]
  },
  {
   "cell_type": "markdown",
   "metadata": {},
   "source": [
    "If we change the register of our sequence we just need to update the adjust value."
   ]
  },
  {
   "cell_type": "code",
   "execution_count": null,
   "metadata": {},
   "outputs": [],
   "source": [
    "f_dimer_sequences = [\n",
    "    'QEIAALKKENAALKWEIAALKQEIAALK',\n",
    "    'QEIAALKKENAALKWEIAALKQEIAALK'\n",
    "#    fgabcdefgabcdefgabcdefgabcde\n",
    "]"
   ]
  },
  {
   "cell_type": "code",
   "execution_count": null,
   "metadata": {},
   "outputs": [],
   "source": [
    "f_dimer = isambard.specifications.CoiledCoil.from_parameters(2, 28, 4.8, 160, REGISTER_ADJUST['f']+26)"
   ]
  },
  {
   "cell_type": "code",
   "execution_count": null,
   "metadata": {},
   "outputs": [],
   "source": [
    "f_dimer.pack_new_sequences(f_dimer_sequences)"
   ]
  },
  {
   "cell_type": "code",
   "execution_count": null,
   "metadata": {},
   "outputs": [],
   "source": [
    "show_ball_and_stick(f_dimer)"
   ]
  },
  {
   "cell_type": "markdown",
   "metadata": {},
   "source": [
    "As you can see, the hydrophobic core is still buried."
   ]
  },
  {
   "cell_type": "markdown",
   "metadata": {},
   "source": [
    "> ### Problem\n",
    "> Try changing the register without updating the sequence. What happens?"
   ]
  },
  {
   "cell_type": "markdown",
   "metadata": {},
   "source": [
    "## Parametric Power! (and associated responsibility)"
   ]
  },
  {
   "cell_type": "markdown",
   "metadata": {},
   "source": [
    "The only restriction on the conformations that you can model in ISAMBARD is the underlying geometric description in the specification, which means that you can build any backbone structure that is geometrically possible. This is very powerful as you can model protein structures that have not been observed in nature, and use the models as the basis for design. Let's make a dimer with some weird parameters."
   ]
  },
  {
   "cell_type": "code",
   "execution_count": null,
   "metadata": {},
   "outputs": [],
   "source": [
    "weird_dimer = isambard.specifications.CoiledCoil.from_parameters(2, 60, 10, 80, 180)"
   ]
  },
  {
   "cell_type": "code",
   "execution_count": null,
   "metadata": {},
   "outputs": [],
   "source": [
    "show_ball_and_stick(weird_dimer)"
   ]
  },
  {
   "cell_type": "code",
   "execution_count": null,
   "metadata": {},
   "outputs": [],
   "source": [
    "weird_trimer = isambard.specifications.CoiledCoil.from_parameters(3, 20, 6, 1000, 278)"
   ]
  },
  {
   "cell_type": "code",
   "execution_count": null,
   "metadata": {},
   "outputs": [],
   "source": [
    "show_ball_and_stick(weird_trimer)"
   ]
  },
  {
   "cell_type": "markdown",
   "metadata": {},
   "source": [
    "These models have extreme values for parameters and so sequences are highly unlikely to fold into these structures. Rather than restricting the parameters that are available to the user (who am I to judge what you build in your own time!), we provide a range of metrics to evaluate the models you produce."
   ]
  },
  {
   "cell_type": "markdown",
   "metadata": {},
   "source": [
    "## Evaluating Models"
   ]
  },
  {
   "cell_type": "markdown",
   "metadata": {},
   "source": [
    "### Geometric Evaluation"
   ]
  },
  {
   "cell_type": "markdown",
   "metadata": {},
   "source": [
    "The `analyse_protein` module provides a range of tools to evaluating the backbone geometry of your model. One of the most useful metrics we can use is the residues per turn (RPT) of the  α-helices in the model. At extreme parameter values, RPT can move away out of the range of values observed in α-helices of known protein structures (Figure 2), which indicates that there is backbone strain in the model."
   ]
  },
  {
   "cell_type": "markdown",
   "metadata": {},
   "source": [
    "<figure>\n",
    "    <img src=\"imgs/figure2.png\" alt=\"Values of residues per turn observed in known structures.\"\n",
    "         height=\"60%\" width=\"60%\">\n",
    "    <figcaption>\n",
    "        **Figure 2. Values of residues per turn observed in known structures**. Grey bars: Values of residues per \n",
    "        turn from helices in known structures. Mean = 3.65 (SD = 0.07). White bars: Values of RPT found in coiled-\n",
    "        coil crystal structures. Mean = 3.62 (SD = 0.07)\n",
    "    </figcaption>\n",
    "</figure>"
   ]
  },
  {
   "cell_type": "markdown",
   "metadata": {},
   "source": [
    "As you can see, this distribution is very tight, so if your number of residues per turn moves too far away from the mean, it's probably indicating that the model isn't very good. Let measure the RPT values on our models."
   ]
  },
  {
   "cell_type": "code",
   "execution_count": null,
   "metadata": {},
   "outputs": [],
   "source": [
    "dimer_rpt_values = [isambard.analyse_protein.residues_per_turn(p) for p in dimer]"
   ]
  },
  {
   "cell_type": "code",
   "execution_count": null,
   "metadata": {},
   "outputs": [],
   "source": [
    "pprint(dimer_rpt_values)"
   ]
  },
  {
   "cell_type": "markdown",
   "metadata": {},
   "source": [
    "`residues_per_turn` takes a `Polypeptide` object and returns a list of RPT values for each residue, so we needed to apply the function to each `Polypeptide` in the dimer `Assembly` (we used a list comprehension to do that, if you're not familiar with the comprehension syntax in Python, have a look at [the docs](https://docs.python.org/3.6/tutorial/datastructures.html#list-comprehensions)). `None` is returned for the last residues as RPT is undefined at the C-terminus."
   ]
  },
  {
   "cell_type": "markdown",
   "metadata": {},
   "source": [
    "Let's calculate the average value. First we want to merge the per chain values together and filter out `None`."
   ]
  },
  {
   "cell_type": "code",
   "execution_count": null,
   "metadata": {},
   "outputs": [],
   "source": [
    "dimer_rpt_values = itertools.chain(*dimer_rpt_values)  # This flattens a list of lists to a single list\n",
    "dimer_rpt_values = [x for x in dimer_rpt_values if x is not None]  # This removes the Nones"
   ]
  },
  {
   "cell_type": "code",
   "execution_count": null,
   "metadata": {},
   "outputs": [],
   "source": [
    "dimer_rpt_values"
   ]
  },
  {
   "cell_type": "code",
   "execution_count": null,
   "metadata": {},
   "outputs": [],
   "source": [
    "# We can use the numpy package to calculate the means/std\n",
    "print('Mean = {:.2f}, STD = {:.2f}'.format(numpy.mean(dimer_rpt_values), numpy.std(dimer_rpt_values)))"
   ]
  },
  {
   "cell_type": "markdown",
   "metadata": {},
   "source": [
    "So the mean is just under 3.6, which is quite low, but well within the distribution of observed RPT values."
   ]
  },
  {
   "cell_type": "markdown",
   "metadata": {},
   "source": [
    "> ### Problem\n",
    "> Calculate the RPT values for the `weird_dimer` and `weird_trimer`. Do they fall inside the observed distributions?"
   ]
  },
  {
   "cell_type": "markdown",
   "metadata": {},
   "source": [
    "> ### Note\n",
    ">There are two other useful metrics to evaluate backbone geometry: (a) rise per residue and (b) residues per turn. You can access these directly on the `Polymer` object (try this `dimer[0].rise_per_residue()` and `dimer[0].radii_of_curvature()`). We won't talk about these here but they can also be useful for evaluating structures."
   ]
  },
  {
   "cell_type": "markdown",
   "metadata": {},
   "source": [
    "### All-Atom Force Fields"
   ]
  },
  {
   "cell_type": "markdown",
   "metadata": {},
   "source": [
    "Another useful way to evaluate your structures is with an all-atom scoring function. The BUDE force field from the Sessions Lab in Bristol (see [this paper](http://dx.doi.org/10.1093/comjnl/bxr091) for more details) is currently bundled with ISAMBARD. We like BUDE because it's fast and suits our purposes, but you can use any force field you like. We can calculate the BUDE energies using built-in properties of the AMPAL objects."
   ]
  },
  {
   "cell_type": "code",
   "execution_count": null,
   "metadata": {},
   "outputs": [],
   "source": [
    "dimer_score = dimer.buff_internal_energy\n",
    "print(dimer_score)"
   ]
  },
  {
   "cell_type": "markdown",
   "metadata": {},
   "source": [
    "The dimer we created earlier has a total BUDE energy of -824.24, which is composed of a steric component (St), an energy of desolvation (De) and a charged component (Ch). This returns a BUDE Force Feild (BUFF) score object, which contains lots of information about the score including the individual components, and all the interactions that the make up the score."
   ]
  },
  {
   "cell_type": "markdown",
   "metadata": {},
   "source": [
    "> ### Note\n",
    "> BUDE follows the thermodynamic convention of lower = more favourable."
   ]
  },
  {
   "cell_type": "code",
   "execution_count": null,
   "metadata": {},
   "outputs": [],
   "source": [
    "dimer_score.total_energy"
   ]
  },
  {
   "cell_type": "code",
   "execution_count": null,
   "metadata": {},
   "outputs": [],
   "source": [
    "dimer_score.steric"
   ]
  },
  {
   "cell_type": "code",
   "execution_count": null,
   "metadata": {},
   "outputs": [],
   "source": [
    "dimer_score.desolvation"
   ]
  },
  {
   "cell_type": "code",
   "execution_count": null,
   "metadata": {},
   "outputs": [],
   "source": [
    "dimer_score.charge"
   ]
  },
  {
   "cell_type": "code",
   "execution_count": null,
   "metadata": {},
   "outputs": [],
   "source": [
    "dimer_score.inter_scores[:5]"
   ]
  },
  {
   "cell_type": "markdown",
   "metadata": {},
   "source": [
    "The `inter_scores` list contains all the non-zero pairwise atom interaction scores from the structure. Each list item contains a tuple with the pair of atoms and a list of the different BUDE components _i.e._ `[steric, desolvation, charge]`. It can be useful to examine these scores to find clashes or important residues."
   ]
  },
  {
   "cell_type": "code",
   "execution_count": null,
   "metadata": {},
   "outputs": [],
   "source": [
    "clashes = [x for x in dimer_score.inter_scores if x[1][0] > 0]  # filtering for clashes"
   ]
  },
  {
   "cell_type": "code",
   "execution_count": null,
   "metadata": {},
   "outputs": [],
   "source": [
    "clashes"
   ]
  },
  {
   "cell_type": "markdown",
   "metadata": {},
   "source": [
    "The third interaction is a clash between 2 oxygen atoms. We can get more information on the residues involved from the atoms themselves."
   ]
  },
  {
   "cell_type": "code",
   "execution_count": null,
   "metadata": {},
   "outputs": [],
   "source": [
    "(atom1, atom2), score_components = clashes[2]  # we can unpack the interaction to get the atoms"
   ]
  },
  {
   "cell_type": "code",
   "execution_count": null,
   "metadata": {},
   "outputs": [],
   "source": [
    "print(atom1.unique_id, atom1.ampal_parent)\n",
    "print(atom2.unique_id, atom2.ampal_parent)"
   ]
  },
  {
   "cell_type": "markdown",
   "metadata": {},
   "source": [
    "We can see here that it is the oxygen atoms on the asparagine side chains in the core are clashing slightly, which you can see in the structure of the first example. This indicates that the parameters used to create this model could be improved for this sequence, so let's do that!"
   ]
  },
  {
   "cell_type": "code",
   "execution_count": null,
   "metadata": {
    "scrolled": true
   },
   "outputs": [],
   "source": [
    "show_ball_and_stick(dimer)"
   ]
  },
  {
   "cell_type": "markdown",
   "metadata": {},
   "source": [
    "> ### Problem\n",
    "> Try and find other interesting interactions, such as the atom pair with the lowest charged interaction."
   ]
  },
  {
   "cell_type": "markdown",
   "metadata": {},
   "source": [
    "## Fitting Parameters"
   ]
  },
  {
   "cell_type": "markdown",
   "metadata": {},
   "source": [
    "When performing parametric modelling, you might not be sure of the parameters that you should use to best model a given sequence, in this case we can fit parameters for a given sequence."
   ]
  },
  {
   "cell_type": "markdown",
   "metadata": {},
   "source": [
    "### Grid Scan"
   ]
  },
  {
   "cell_type": "markdown",
   "metadata": {},
   "source": [
    "The simplest form of parameter fitting is to perform a grid scan where we uniformly sample parameters across a range of allowed values. Let's perform a grid scan of radius vs interface angle for a dimer. First of all we can define the range of parameter values we want to explore."
   ]
  },
  {
   "cell_type": "code",
   "execution_count": null,
   "metadata": {},
   "outputs": [],
   "source": [
    "radii = numpy.arange(4, 6, 0.2)  # (min, max, step)\n",
    "interface_angles = numpy.arange(10, 30, 2)"
   ]
  },
  {
   "cell_type": "markdown",
   "metadata": {},
   "source": [
    "Next we'll write a little function to build a model from radius and interface angle values. We're keeping pitch fixed as this has the smallest overall impact on the model quality."
   ]
  },
  {
   "cell_type": "code",
   "execution_count": null,
   "metadata": {},
   "outputs": [],
   "source": [
    "def build_dimer(radius, interface_angle):\n",
    "    sequences = ['EIAALKQEIAALKKENAALKWEIAALKQ', 'EIAALKQEIAALKKENAALKWEIAALKQ']\n",
    "    gs_dimer = isambard.specifications.CoiledCoil.from_parameters(\n",
    "        2, 28, radius, 160, REGISTER_ADJUST['g']+interface_angle)\n",
    "    gs_dimer.pack_new_sequences(sequences)\n",
    "    return gs_dimer"
   ]
  },
  {
   "cell_type": "markdown",
   "metadata": {},
   "source": [
    "Finally we can create an array (a 2D matrix) to hold our results using numpy, and we can populate the grid positions with the BUFF score of each of the corresponding models."
   ]
  },
  {
   "cell_type": "code",
   "execution_count": null,
   "metadata": {},
   "outputs": [],
   "source": [
    "results_array = numpy.empty((len(radii), len(interface_angles)))\n",
    "for i, radius in enumerate(radii):\n",
    "    for j, interface_angle in enumerate(interface_angles):\n",
    "        dimer_model = build_dimer(radius, interface_angle)\n",
    "        results_array[i][j] = dimer_model.buff_internal_energy.total_energy"
   ]
  },
  {
   "cell_type": "markdown",
   "metadata": {},
   "source": [
    "We can plot a heatmap of the array to show which parameters have the best scores!"
   ]
  },
  {
   "cell_type": "code",
   "execution_count": null,
   "metadata": {},
   "outputs": [],
   "source": [
    "plt.imshow(results_array)\n",
    "plt.ylabel('Radius (Å)')\n",
    "plt.xlabel('Interface Angle (°)')\n",
    "plt.yticks(range(len(radii)), ['{:.1f}'.format(x) for x in radii])\n",
    "plt.xticks(range(len(interface_angles)), interface_angles)\n",
    "plt.colorbar()"
   ]
  },
  {
   "cell_type": "markdown",
   "metadata": {},
   "source": [
    "The model with a radius of 4.4 Å and interface angle of 18° is the best, let's have a look at the model."
   ]
  },
  {
   "cell_type": "code",
   "execution_count": null,
   "metadata": {},
   "outputs": [],
   "source": [
    "best_dimer = build_dimer(4.4, 18)"
   ]
  },
  {
   "cell_type": "code",
   "execution_count": null,
   "metadata": {},
   "outputs": [],
   "source": [
    "best_dimer.buff_internal_energy"
   ]
  },
  {
   "cell_type": "code",
   "execution_count": null,
   "metadata": {
    "scrolled": false
   },
   "outputs": [],
   "source": [
    "show_ball_and_stick(best_dimer)"
   ]
  },
  {
   "cell_type": "markdown",
   "metadata": {},
   "source": [
    "If you zoom in on the asparagine residues in the core, you should see that they are now forming a nice hydrogen-bonding network. Neat!"
   ]
  },
  {
   "cell_type": "markdown",
   "metadata": {},
   "source": [
    "> ### Problem\n",
    "> Try performing a finer grid scan around the best parameters found by the last grid scan. Stick to at most 100 models or it might take a long time to finish."
   ]
  },
  {
   "cell_type": "markdown",
   "metadata": {},
   "source": [
    "When the parameter space that you want to explore is small, a grid scan is a good option. You can scale up the model building through parallelisation using the [multiprocessing](https://docs.python.org/3/library/multiprocessing.html) module, based on your available resources. However, as you introduce more parameters, it quickly becomes very inefficient to perform a grid scan, and so other methods of parameter fitting are preferred (see Tutorial 3!)."
   ]
  }
 ],
 "metadata": {
  "kernelspec": {
   "display_name": "Python 3",
   "language": "python",
   "name": "python3"
  },
  "language_info": {
   "codemirror_mode": {
    "name": "ipython",
    "version": 3
   },
   "file_extension": ".py",
   "mimetype": "text/x-python",
   "name": "python",
   "nbconvert_exporter": "python",
   "pygments_lexer": "ipython3",
   "version": "3.6.4"
  }
 },
 "nbformat": 4,
 "nbformat_minor": 2
}
